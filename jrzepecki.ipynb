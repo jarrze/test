{
 "cells": [
  {
   "cell_type": "markdown",
   "id": "7f728b44-970b-4512-a96b-db5200ab482a",
   "metadata": {},
   "source": [
    "# My Jupyter Notebook on IBM Watson Studio"
   ]
  },
  {
   "cell_type": "markdown",
   "id": "bdf9c56b-1862-4a58-8f7d-2384ceb93d3c",
   "metadata": {},
   "source": [
    "**Jarosław Rzepecki**\n",
    "\n",
    "Data Scientist"
   ]
  },
  {
   "cell_type": "markdown",
   "id": "16f09607-969a-49ff-a446-3e6e3e60e894",
   "metadata": {},
   "source": [
    "_I am interested in data science because it contains many powerful methods and tools in prediction. This area is growing fast and becoming one of the jobs of the future._"
   ]
  },
  {
   "cell_type": "markdown",
   "id": "01a86552-4a95-4e21-9d43-2369539256eb",
   "metadata": {},
   "source": [
    "### The code presented below calculates the arithmetical average from numbers: 1, 2 and 3."
   ]
  },
  {
   "cell_type": "code",
   "execution_count": 3,
   "id": "edbf93d0-61e4-48a3-8071-672f0aa07075",
   "metadata": {},
   "outputs": [
    {
     "data": {
      "text/plain": [
       "2.0"
      ]
     },
     "execution_count": 3,
     "metadata": {},
     "output_type": "execute_result"
    }
   ],
   "source": [
    "(1+2+3)/3"
   ]
  },
  {
   "cell_type": "markdown",
   "id": "935bbd92-f736-4805-b9c0-cfa8103db57b",
   "metadata": {},
   "source": [
    "|num1|num2|sum|\n",
    "|---|---|---|\n",
    "|1|2|3|\n",
    "|3|4|7|\n",
    "|5|6|11|\n",
    "\n",
    "> horizontal rule\n",
    "\n",
    "- 1st element of bullet list"
   ]
  },
  {
   "cell_type": "code",
   "execution_count": null,
   "id": "6cd0c15b-9fda-48ab-a065-4fc5fa373618",
   "metadata": {},
   "outputs": [],
   "source": []
  },
  {
   "cell_type": "code",
   "execution_count": null,
   "id": "8b535954-01dd-4d07-9407-0937c8fb22ff",
   "metadata": {},
   "outputs": [],
   "source": []
  },
  {
   "cell_type": "code",
   "execution_count": null,
   "id": "cfd65120-65cf-4a08-a2f8-9835ce2d70d7",
   "metadata": {},
   "outputs": [],
   "source": []
  },
  {
   "cell_type": "code",
   "execution_count": null,
   "id": "b6582a1b-3399-4825-a928-0d590d58bbcc",
   "metadata": {},
   "outputs": [],
   "source": []
  }
 ],
 "metadata": {
  "kernelspec": {
   "display_name": "Python",
   "language": "python",
   "name": "conda-env-python-py"
  },
  "language_info": {
   "codemirror_mode": {
    "name": "ipython",
    "version": 3
   },
   "file_extension": ".py",
   "mimetype": "text/x-python",
   "name": "python",
   "nbconvert_exporter": "python",
   "pygments_lexer": "ipython3",
   "version": "3.7.12"
  }
 },
 "nbformat": 4,
 "nbformat_minor": 5
}
